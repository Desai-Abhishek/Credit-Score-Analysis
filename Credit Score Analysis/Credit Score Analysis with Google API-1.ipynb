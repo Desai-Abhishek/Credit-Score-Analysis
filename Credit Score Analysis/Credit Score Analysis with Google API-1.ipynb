{
 "cells": [
  {
   "cell_type": "code",
   "execution_count": 1,
   "id": "daca10c2",
   "metadata": {},
   "outputs": [],
   "source": [
    "import numpy as np \n",
    "import pandas as pd"
   ]
  },
  {
   "cell_type": "code",
   "execution_count": 2,
   "id": "f1befc55",
   "metadata": {},
   "outputs": [
    {
     "data": {
      "text/html": [
       "<div>\n",
       "<style scoped>\n",
       "    .dataframe tbody tr th:only-of-type {\n",
       "        vertical-align: middle;\n",
       "    }\n",
       "\n",
       "    .dataframe tbody tr th {\n",
       "        vertical-align: top;\n",
       "    }\n",
       "\n",
       "    .dataframe thead th {\n",
       "        text-align: right;\n",
       "    }\n",
       "</style>\n",
       "<table border=\"1\" class=\"dataframe\">\n",
       "  <thead>\n",
       "    <tr style=\"text-align: right;\">\n",
       "      <th></th>\n",
       "      <th>Occupation</th>\n",
       "      <th>Annual_Income</th>\n",
       "      <th>Num_Bank_Accounts</th>\n",
       "      <th>Num_Credit_Card</th>\n",
       "      <th>Interest_Rate</th>\n",
       "      <th>Num_of_Loan</th>\n",
       "      <th>Delay_from_due_date</th>\n",
       "      <th>Num_of_Delayed_Payment</th>\n",
       "      <th>Num_Credit_Inquiries</th>\n",
       "      <th>Credit_Mix</th>\n",
       "      <th>Outstanding_Debt</th>\n",
       "      <th>Credit_Utilization_Ratio</th>\n",
       "      <th>Credit_History_Age</th>\n",
       "      <th>Payment_of_Min_Amount</th>\n",
       "      <th>Payment_Behaviour</th>\n",
       "      <th>Monthly_Balance</th>\n",
       "      <th>Credit_Score</th>\n",
       "    </tr>\n",
       "  </thead>\n",
       "  <tbody>\n",
       "    <tr>\n",
       "      <th>0</th>\n",
       "      <td>Scientist</td>\n",
       "      <td>19114.12</td>\n",
       "      <td>3.0</td>\n",
       "      <td>4.0</td>\n",
       "      <td>3.0</td>\n",
       "      <td>4.0</td>\n",
       "      <td>3.0</td>\n",
       "      <td>7.0</td>\n",
       "      <td>4.0</td>\n",
       "      <td>Good</td>\n",
       "      <td>809.98</td>\n",
       "      <td>26.822620</td>\n",
       "      <td>265.0</td>\n",
       "      <td>No</td>\n",
       "      <td>High_spent_Small_value_payments</td>\n",
       "      <td>312.494089</td>\n",
       "      <td>Good</td>\n",
       "    </tr>\n",
       "    <tr>\n",
       "      <th>1</th>\n",
       "      <td>Scientist</td>\n",
       "      <td>19114.12</td>\n",
       "      <td>3.0</td>\n",
       "      <td>4.0</td>\n",
       "      <td>3.0</td>\n",
       "      <td>4.0</td>\n",
       "      <td>3.0</td>\n",
       "      <td>4.0</td>\n",
       "      <td>4.0</td>\n",
       "      <td>Good</td>\n",
       "      <td>809.98</td>\n",
       "      <td>31.944960</td>\n",
       "      <td>266.0</td>\n",
       "      <td>No</td>\n",
       "      <td>Low_spent_Large_value_payments</td>\n",
       "      <td>284.629162</td>\n",
       "      <td>Good</td>\n",
       "    </tr>\n",
       "    <tr>\n",
       "      <th>2</th>\n",
       "      <td>Scientist</td>\n",
       "      <td>19114.12</td>\n",
       "      <td>3.0</td>\n",
       "      <td>4.0</td>\n",
       "      <td>3.0</td>\n",
       "      <td>4.0</td>\n",
       "      <td>3.0</td>\n",
       "      <td>7.0</td>\n",
       "      <td>4.0</td>\n",
       "      <td>Good</td>\n",
       "      <td>809.98</td>\n",
       "      <td>28.609352</td>\n",
       "      <td>267.0</td>\n",
       "      <td>No</td>\n",
       "      <td>Low_spent_Medium_value_payments</td>\n",
       "      <td>331.209863</td>\n",
       "      <td>Good</td>\n",
       "    </tr>\n",
       "    <tr>\n",
       "      <th>3</th>\n",
       "      <td>Scientist</td>\n",
       "      <td>19114.12</td>\n",
       "      <td>3.0</td>\n",
       "      <td>4.0</td>\n",
       "      <td>3.0</td>\n",
       "      <td>4.0</td>\n",
       "      <td>5.0</td>\n",
       "      <td>4.0</td>\n",
       "      <td>4.0</td>\n",
       "      <td>Good</td>\n",
       "      <td>809.98</td>\n",
       "      <td>31.377862</td>\n",
       "      <td>268.0</td>\n",
       "      <td>No</td>\n",
       "      <td>Low_spent_Small_value_payments</td>\n",
       "      <td>223.451310</td>\n",
       "      <td>Good</td>\n",
       "    </tr>\n",
       "    <tr>\n",
       "      <th>4</th>\n",
       "      <td>Scientist</td>\n",
       "      <td>19114.12</td>\n",
       "      <td>3.0</td>\n",
       "      <td>4.0</td>\n",
       "      <td>3.0</td>\n",
       "      <td>4.0</td>\n",
       "      <td>6.0</td>\n",
       "      <td>4.0</td>\n",
       "      <td>4.0</td>\n",
       "      <td>Good</td>\n",
       "      <td>809.98</td>\n",
       "      <td>24.797347</td>\n",
       "      <td>269.0</td>\n",
       "      <td>No</td>\n",
       "      <td>High_spent_Medium_value_payments</td>\n",
       "      <td>341.489231</td>\n",
       "      <td>Good</td>\n",
       "    </tr>\n",
       "  </tbody>\n",
       "</table>\n",
       "</div>"
      ],
      "text/plain": [
       "  Occupation  Annual_Income  Num_Bank_Accounts  Num_Credit_Card  \\\n",
       "0  Scientist       19114.12                3.0              4.0   \n",
       "1  Scientist       19114.12                3.0              4.0   \n",
       "2  Scientist       19114.12                3.0              4.0   \n",
       "3  Scientist       19114.12                3.0              4.0   \n",
       "4  Scientist       19114.12                3.0              4.0   \n",
       "\n",
       "   Interest_Rate  Num_of_Loan  Delay_from_due_date  Num_of_Delayed_Payment  \\\n",
       "0            3.0          4.0                  3.0                     7.0   \n",
       "1            3.0          4.0                  3.0                     4.0   \n",
       "2            3.0          4.0                  3.0                     7.0   \n",
       "3            3.0          4.0                  5.0                     4.0   \n",
       "4            3.0          4.0                  6.0                     4.0   \n",
       "\n",
       "   Num_Credit_Inquiries Credit_Mix  Outstanding_Debt  \\\n",
       "0                   4.0       Good            809.98   \n",
       "1                   4.0       Good            809.98   \n",
       "2                   4.0       Good            809.98   \n",
       "3                   4.0       Good            809.98   \n",
       "4                   4.0       Good            809.98   \n",
       "\n",
       "   Credit_Utilization_Ratio  Credit_History_Age Payment_of_Min_Amount  \\\n",
       "0                 26.822620               265.0                    No   \n",
       "1                 31.944960               266.0                    No   \n",
       "2                 28.609352               267.0                    No   \n",
       "3                 31.377862               268.0                    No   \n",
       "4                 24.797347               269.0                    No   \n",
       "\n",
       "                  Payment_Behaviour  Monthly_Balance Credit_Score  \n",
       "0   High_spent_Small_value_payments       312.494089         Good  \n",
       "1    Low_spent_Large_value_payments       284.629162         Good  \n",
       "2   Low_spent_Medium_value_payments       331.209863         Good  \n",
       "3    Low_spent_Small_value_payments       223.451310         Good  \n",
       "4  High_spent_Medium_value_payments       341.489231         Good  "
      ]
     },
     "execution_count": 2,
     "metadata": {},
     "output_type": "execute_result"
    }
   ],
   "source": [
    "##reading data\n",
    "pd.set_option('display.max_columns',None)\n",
    "df=pd.read_csv(\"CSA.csv\")\n",
    "df.drop(columns=['Unnamed: 0' , 'Monthly_Inhand_Salary'],inplace=True)\n",
    "df.head()"
   ]
  },
  {
   "cell_type": "code",
   "execution_count": 3,
   "id": "69491f33",
   "metadata": {},
   "outputs": [
    {
     "data": {
      "text/html": [
       "<div>\n",
       "<style scoped>\n",
       "    .dataframe tbody tr th:only-of-type {\n",
       "        vertical-align: middle;\n",
       "    }\n",
       "\n",
       "    .dataframe tbody tr th {\n",
       "        vertical-align: top;\n",
       "    }\n",
       "\n",
       "    .dataframe thead th {\n",
       "        text-align: right;\n",
       "    }\n",
       "</style>\n",
       "<table border=\"1\" class=\"dataframe\">\n",
       "  <thead>\n",
       "    <tr style=\"text-align: right;\">\n",
       "      <th></th>\n",
       "      <th>Annual_Income</th>\n",
       "      <th>Num_Bank_Accounts</th>\n",
       "      <th>Num_Credit_Card</th>\n",
       "      <th>Interest_Rate</th>\n",
       "      <th>Num_of_Loan</th>\n",
       "      <th>Delay_from_due_date</th>\n",
       "      <th>Num_of_Delayed_Payment</th>\n",
       "      <th>Num_Credit_Inquiries</th>\n",
       "      <th>Outstanding_Debt</th>\n",
       "      <th>Credit_Utilization_Ratio</th>\n",
       "      <th>Credit_History_Age</th>\n",
       "      <th>Monthly_Balance</th>\n",
       "    </tr>\n",
       "  </thead>\n",
       "  <tbody>\n",
       "    <tr>\n",
       "      <th>count</th>\n",
       "      <td>91705.000000</td>\n",
       "      <td>91705.000000</td>\n",
       "      <td>91705.000000</td>\n",
       "      <td>91705.000000</td>\n",
       "      <td>91705.000000</td>\n",
       "      <td>91705.000000</td>\n",
       "      <td>91705.000000</td>\n",
       "      <td>91705.000000</td>\n",
       "      <td>91705.000000</td>\n",
       "      <td>91705.000000</td>\n",
       "      <td>91705.000000</td>\n",
       "      <td>91705.000000</td>\n",
       "    </tr>\n",
       "    <tr>\n",
       "      <th>mean</th>\n",
       "      <td>51336.698373</td>\n",
       "      <td>5.271316</td>\n",
       "      <td>5.470345</td>\n",
       "      <td>14.142751</td>\n",
       "      <td>3.422289</td>\n",
       "      <td>20.521433</td>\n",
       "      <td>13.060651</td>\n",
       "      <td>5.592639</td>\n",
       "      <td>1377.960125</td>\n",
       "      <td>32.321477</td>\n",
       "      <td>226.200087</td>\n",
       "      <td>398.043882</td>\n",
       "    </tr>\n",
       "    <tr>\n",
       "      <th>std</th>\n",
       "      <td>38777.382254</td>\n",
       "      <td>2.603067</td>\n",
       "      <td>2.049243</td>\n",
       "      <td>8.659878</td>\n",
       "      <td>2.424280</td>\n",
       "      <td>14.592800</td>\n",
       "      <td>6.248748</td>\n",
       "      <td>3.843010</td>\n",
       "      <td>1135.059058</td>\n",
       "      <td>5.125147</td>\n",
       "      <td>99.252323</td>\n",
       "      <td>204.164227</td>\n",
       "    </tr>\n",
       "    <tr>\n",
       "      <th>min</th>\n",
       "      <td>7006.035000</td>\n",
       "      <td>0.000000</td>\n",
       "      <td>0.000000</td>\n",
       "      <td>1.000000</td>\n",
       "      <td>0.000000</td>\n",
       "      <td>0.000000</td>\n",
       "      <td>0.000000</td>\n",
       "      <td>0.000000</td>\n",
       "      <td>0.230000</td>\n",
       "      <td>20.000000</td>\n",
       "      <td>1.000000</td>\n",
       "      <td>0.007760</td>\n",
       "    </tr>\n",
       "    <tr>\n",
       "      <th>25%</th>\n",
       "      <td>19627.930000</td>\n",
       "      <td>3.000000</td>\n",
       "      <td>4.000000</td>\n",
       "      <td>7.000000</td>\n",
       "      <td>2.000000</td>\n",
       "      <td>10.000000</td>\n",
       "      <td>9.000000</td>\n",
       "      <td>3.000000</td>\n",
       "      <td>544.970000</td>\n",
       "      <td>28.078939</td>\n",
       "      <td>152.000000</td>\n",
       "      <td>269.733071</td>\n",
       "    </tr>\n",
       "    <tr>\n",
       "      <th>50%</th>\n",
       "      <td>37655.980000</td>\n",
       "      <td>5.000000</td>\n",
       "      <td>5.000000</td>\n",
       "      <td>12.000000</td>\n",
       "      <td>3.000000</td>\n",
       "      <td>17.000000</td>\n",
       "      <td>13.000000</td>\n",
       "      <td>5.000000</td>\n",
       "      <td>1118.150000</td>\n",
       "      <td>32.350469</td>\n",
       "      <td>225.000000</td>\n",
       "      <td>337.855046</td>\n",
       "    </tr>\n",
       "    <tr>\n",
       "      <th>75%</th>\n",
       "      <td>73044.560000</td>\n",
       "      <td>7.000000</td>\n",
       "      <td>7.000000</td>\n",
       "      <td>20.000000</td>\n",
       "      <td>5.000000</td>\n",
       "      <td>27.000000</td>\n",
       "      <td>18.000000</td>\n",
       "      <td>8.000000</td>\n",
       "      <td>1814.780000</td>\n",
       "      <td>36.532614</td>\n",
       "      <td>308.000000</td>\n",
       "      <td>471.251754</td>\n",
       "    </tr>\n",
       "    <tr>\n",
       "      <th>max</th>\n",
       "      <td>179987.280000</td>\n",
       "      <td>11.000000</td>\n",
       "      <td>11.000000</td>\n",
       "      <td>34.000000</td>\n",
       "      <td>9.000000</td>\n",
       "      <td>62.000000</td>\n",
       "      <td>25.000000</td>\n",
       "      <td>17.000000</td>\n",
       "      <td>4998.070000</td>\n",
       "      <td>50.000000</td>\n",
       "      <td>404.000000</td>\n",
       "      <td>1183.930696</td>\n",
       "    </tr>\n",
       "  </tbody>\n",
       "</table>\n",
       "</div>"
      ],
      "text/plain": [
       "       Annual_Income  Num_Bank_Accounts  Num_Credit_Card  Interest_Rate  \\\n",
       "count   91705.000000       91705.000000     91705.000000   91705.000000   \n",
       "mean    51336.698373           5.271316         5.470345      14.142751   \n",
       "std     38777.382254           2.603067         2.049243       8.659878   \n",
       "min      7006.035000           0.000000         0.000000       1.000000   \n",
       "25%     19627.930000           3.000000         4.000000       7.000000   \n",
       "50%     37655.980000           5.000000         5.000000      12.000000   \n",
       "75%     73044.560000           7.000000         7.000000      20.000000   \n",
       "max    179987.280000          11.000000        11.000000      34.000000   \n",
       "\n",
       "        Num_of_Loan  Delay_from_due_date  Num_of_Delayed_Payment  \\\n",
       "count  91705.000000         91705.000000            91705.000000   \n",
       "mean       3.422289            20.521433               13.060651   \n",
       "std        2.424280            14.592800                6.248748   \n",
       "min        0.000000             0.000000                0.000000   \n",
       "25%        2.000000            10.000000                9.000000   \n",
       "50%        3.000000            17.000000               13.000000   \n",
       "75%        5.000000            27.000000               18.000000   \n",
       "max        9.000000            62.000000               25.000000   \n",
       "\n",
       "       Num_Credit_Inquiries  Outstanding_Debt  Credit_Utilization_Ratio  \\\n",
       "count          91705.000000      91705.000000              91705.000000   \n",
       "mean               5.592639       1377.960125                 32.321477   \n",
       "std                3.843010       1135.059058                  5.125147   \n",
       "min                0.000000          0.230000                 20.000000   \n",
       "25%                3.000000        544.970000                 28.078939   \n",
       "50%                5.000000       1118.150000                 32.350469   \n",
       "75%                8.000000       1814.780000                 36.532614   \n",
       "max               17.000000       4998.070000                 50.000000   \n",
       "\n",
       "       Credit_History_Age  Monthly_Balance  \n",
       "count        91705.000000     91705.000000  \n",
       "mean           226.200087       398.043882  \n",
       "std             99.252323       204.164227  \n",
       "min              1.000000         0.007760  \n",
       "25%            152.000000       269.733071  \n",
       "50%            225.000000       337.855046  \n",
       "75%            308.000000       471.251754  \n",
       "max            404.000000      1183.930696  "
      ]
     },
     "execution_count": 3,
     "metadata": {},
     "output_type": "execute_result"
    }
   ],
   "source": [
    "df.describe()"
   ]
  },
  {
   "cell_type": "code",
   "execution_count": 4,
   "id": "38b43039",
   "metadata": {},
   "outputs": [
    {
     "data": {
      "text/plain": [
       "array(['Good', 'Standard', 'Poor'], dtype=object)"
      ]
     },
     "execution_count": 4,
     "metadata": {},
     "output_type": "execute_result"
    }
   ],
   "source": [
    "a1=df['Credit_Score'].unique()\n",
    "a1"
   ]
  },
  {
   "cell_type": "code",
   "execution_count": 5,
   "id": "f7251641",
   "metadata": {},
   "outputs": [
    {
     "data": {
      "text/plain": [
       "array(['Good', 'Standard', 'Bad'], dtype=object)"
      ]
     },
     "execution_count": 5,
     "metadata": {},
     "output_type": "execute_result"
    }
   ],
   "source": [
    "a2=df['Credit_Mix'].unique()\n",
    "a2"
   ]
  },
  {
   "cell_type": "code",
   "execution_count": 6,
   "id": "0fb6ef6c",
   "metadata": {},
   "outputs": [
    {
     "data": {
      "text/plain": [
       "array(['No', 'Yes'], dtype=object)"
      ]
     },
     "execution_count": 6,
     "metadata": {},
     "output_type": "execute_result"
    }
   ],
   "source": [
    "a3=df['Payment_of_Min_Amount'].unique()\n",
    "a3"
   ]
  },
  {
   "cell_type": "code",
   "execution_count": 7,
   "id": "288c5665",
   "metadata": {},
   "outputs": [
    {
     "data": {
      "text/plain": [
       "array(['Scientist', 'Teacher', 'Engineer', 'Entrepreneur', 'Developer',\n",
       "       'Lawyer', 'Media_Manager', 'Doctor', 'Journalist', 'Manager',\n",
       "       'Accountant', 'Musician', 'Mechanic', 'Writer', 'Architect'],\n",
       "      dtype=object)"
      ]
     },
     "execution_count": 7,
     "metadata": {},
     "output_type": "execute_result"
    }
   ],
   "source": [
    "a4=df['Occupation'].unique()\n",
    "a4"
   ]
  },
  {
   "cell_type": "code",
   "execution_count": 8,
   "id": "415fc1c1",
   "metadata": {},
   "outputs": [
    {
     "data": {
      "text/plain": [
       "array(['High_spent_Small_value_payments',\n",
       "       'Low_spent_Large_value_payments',\n",
       "       'Low_spent_Medium_value_payments',\n",
       "       'Low_spent_Small_value_payments',\n",
       "       'High_spent_Medium_value_payments',\n",
       "       'High_spent_Large_value_payments'], dtype=object)"
      ]
     },
     "execution_count": 8,
     "metadata": {},
     "output_type": "execute_result"
    }
   ],
   "source": [
    "a5=df['Payment_Behaviour'].unique()\n",
    "a5"
   ]
  },
  {
   "cell_type": "code",
   "execution_count": 9,
   "id": "8e5708e4",
   "metadata": {},
   "outputs": [],
   "source": [
    "df['Credit_Mix']=df['Credit_Mix'].map({'Good': 2 , 'Standard' : 1 , 'Bad' : 0})\n",
    "df['Credit_Score']=df['Credit_Score'].map({'Good': 2 , 'Standard' : 1 , 'Poor' : 0})"
   ]
  },
  {
   "cell_type": "markdown",
   "id": "01e766bd",
   "metadata": {},
   "source": [
    "## Label Encoding to treat Categorical data\n"
   ]
  },
  {
   "cell_type": "code",
   "execution_count": 10,
   "id": "c557fa55",
   "metadata": {},
   "outputs": [],
   "source": [
    "##label encoding \n",
    "\n",
    "col1=['Payment_of_Min_Amount', 'Occupation' ,'Payment_Behaviour']\n",
    "from sklearn.preprocessing import LabelEncoder\n",
    "le=LabelEncoder()\n",
    "for c in col1:\n",
    "    df[c]=le.fit_transform(df[c])"
   ]
  },
  {
   "cell_type": "code",
   "execution_count": 11,
   "id": "8691b5f8",
   "metadata": {},
   "outputs": [],
   "source": [
    "b1 = df['Credit_Score'].unique()\n",
    "b2 = df['Credit_Mix'].unique()\n",
    "b3 = df['Payment_of_Min_Amount'].unique()\n",
    "b4 = df['Occupation'].unique()\n",
    "b5 = df['Payment_Behaviour'].unique()"
   ]
  },
  {
   "cell_type": "markdown",
   "id": "e6cdf099",
   "metadata": {},
   "source": [
    "## Splitting Data"
   ]
  },
  {
   "cell_type": "code",
   "execution_count": 12,
   "id": "a9bcb761",
   "metadata": {},
   "outputs": [],
   "source": [
    "X=df[['Annual_Income', 'Num_Bank_Accounts',\n",
    "       'Num_Credit_Card', 'Interest_Rate', 'Num_of_Loan', 'Occupation' ,\n",
    "       'Delay_from_due_date', 'Num_of_Delayed_Payment', 'Num_Credit_Inquiries',\n",
    "       'Credit_Mix', 'Outstanding_Debt', 'Credit_Utilization_Ratio',\n",
    "       'Credit_History_Age', 'Payment_of_Min_Amount', 'Payment_Behaviour',\n",
    "       'Monthly_Balance']].values\n",
    "Y=df['Credit_Score'].values"
   ]
  },
  {
   "cell_type": "markdown",
   "id": "86440255",
   "metadata": {},
   "source": [
    "## Apply oversampling"
   ]
  },
  {
   "cell_type": "markdown",
   "id": "2cb64c65",
   "metadata": {},
   "source": [
    "Data is Not 100% balanced"
   ]
  },
  {
   "cell_type": "code",
   "execution_count": 13,
   "id": "da137d40",
   "metadata": {},
   "outputs": [
    {
     "data": {
      "text/plain": [
       "1    0.532894\n",
       "0    0.278753\n",
       "2    0.188354\n",
       "Name: Credit_Score, dtype: float64"
      ]
     },
     "execution_count": 13,
     "metadata": {},
     "output_type": "execute_result"
    }
   ],
   "source": [
    "df['Credit_Score'].value_counts(normalize=True)"
   ]
  },
  {
   "cell_type": "code",
   "execution_count": 14,
   "id": "603def15",
   "metadata": {},
   "outputs": [],
   "source": [
    "from imblearn.over_sampling import SMOTE"
   ]
  },
  {
   "cell_type": "code",
   "execution_count": 15,
   "id": "9f4d99fd",
   "metadata": {},
   "outputs": [],
   "source": [
    "a = SMOTE(sampling_strategy='auto')"
   ]
  },
  {
   "cell_type": "code",
   "execution_count": 16,
   "id": "a8603e42",
   "metadata": {},
   "outputs": [],
   "source": [
    "X_a , Y_a = a.fit_resample(X , Y)"
   ]
  },
  {
   "cell_type": "code",
   "execution_count": 17,
   "id": "e962d450",
   "metadata": {},
   "outputs": [
    {
     "data": {
      "text/plain": [
       "0    0.333333\n",
       "1    0.333333\n",
       "2    0.333333\n",
       "dtype: float64"
      ]
     },
     "execution_count": 17,
     "metadata": {},
     "output_type": "execute_result"
    }
   ],
   "source": [
    "pd.DataFrame(Y_a).value_counts(normalize=True)"
   ]
  },
  {
   "cell_type": "markdown",
   "id": "f5757517",
   "metadata": {},
   "source": [
    "##  Training  sets"
   ]
  },
  {
   "cell_type": "code",
   "execution_count": 18,
   "id": "9b1c5ab7",
   "metadata": {},
   "outputs": [],
   "source": [
    "X_train = X_a\n",
    "Y_train = Y_a"
   ]
  },
  {
   "cell_type": "markdown",
   "id": "ef39d530",
   "metadata": {},
   "source": [
    "## DecisionTreeClassifier"
   ]
  },
  {
   "cell_type": "code",
   "execution_count": 19,
   "id": "1b95a332",
   "metadata": {},
   "outputs": [
    {
     "data": {
      "text/html": [
       "<style>#sk-container-id-1 {color: black;background-color: white;}#sk-container-id-1 pre{padding: 0;}#sk-container-id-1 div.sk-toggleable {background-color: white;}#sk-container-id-1 label.sk-toggleable__label {cursor: pointer;display: block;width: 100%;margin-bottom: 0;padding: 0.3em;box-sizing: border-box;text-align: center;}#sk-container-id-1 label.sk-toggleable__label-arrow:before {content: \"▸\";float: left;margin-right: 0.25em;color: #696969;}#sk-container-id-1 label.sk-toggleable__label-arrow:hover:before {color: black;}#sk-container-id-1 div.sk-estimator:hover label.sk-toggleable__label-arrow:before {color: black;}#sk-container-id-1 div.sk-toggleable__content {max-height: 0;max-width: 0;overflow: hidden;text-align: left;background-color: #f0f8ff;}#sk-container-id-1 div.sk-toggleable__content pre {margin: 0.2em;color: black;border-radius: 0.25em;background-color: #f0f8ff;}#sk-container-id-1 input.sk-toggleable__control:checked~div.sk-toggleable__content {max-height: 200px;max-width: 100%;overflow: auto;}#sk-container-id-1 input.sk-toggleable__control:checked~label.sk-toggleable__label-arrow:before {content: \"▾\";}#sk-container-id-1 div.sk-estimator input.sk-toggleable__control:checked~label.sk-toggleable__label {background-color: #d4ebff;}#sk-container-id-1 div.sk-label input.sk-toggleable__control:checked~label.sk-toggleable__label {background-color: #d4ebff;}#sk-container-id-1 input.sk-hidden--visually {border: 0;clip: rect(1px 1px 1px 1px);clip: rect(1px, 1px, 1px, 1px);height: 1px;margin: -1px;overflow: hidden;padding: 0;position: absolute;width: 1px;}#sk-container-id-1 div.sk-estimator {font-family: monospace;background-color: #f0f8ff;border: 1px dotted black;border-radius: 0.25em;box-sizing: border-box;margin-bottom: 0.5em;}#sk-container-id-1 div.sk-estimator:hover {background-color: #d4ebff;}#sk-container-id-1 div.sk-parallel-item::after {content: \"\";width: 100%;border-bottom: 1px solid gray;flex-grow: 1;}#sk-container-id-1 div.sk-label:hover label.sk-toggleable__label {background-color: #d4ebff;}#sk-container-id-1 div.sk-serial::before {content: \"\";position: absolute;border-left: 1px solid gray;box-sizing: border-box;top: 0;bottom: 0;left: 50%;z-index: 0;}#sk-container-id-1 div.sk-serial {display: flex;flex-direction: column;align-items: center;background-color: white;padding-right: 0.2em;padding-left: 0.2em;position: relative;}#sk-container-id-1 div.sk-item {position: relative;z-index: 1;}#sk-container-id-1 div.sk-parallel {display: flex;align-items: stretch;justify-content: center;background-color: white;position: relative;}#sk-container-id-1 div.sk-item::before, #sk-container-id-1 div.sk-parallel-item::before {content: \"\";position: absolute;border-left: 1px solid gray;box-sizing: border-box;top: 0;bottom: 0;left: 50%;z-index: -1;}#sk-container-id-1 div.sk-parallel-item {display: flex;flex-direction: column;z-index: 1;position: relative;background-color: white;}#sk-container-id-1 div.sk-parallel-item:first-child::after {align-self: flex-end;width: 50%;}#sk-container-id-1 div.sk-parallel-item:last-child::after {align-self: flex-start;width: 50%;}#sk-container-id-1 div.sk-parallel-item:only-child::after {width: 0;}#sk-container-id-1 div.sk-dashed-wrapped {border: 1px dashed gray;margin: 0 0.4em 0.5em 0.4em;box-sizing: border-box;padding-bottom: 0.4em;background-color: white;}#sk-container-id-1 div.sk-label label {font-family: monospace;font-weight: bold;display: inline-block;line-height: 1.2em;}#sk-container-id-1 div.sk-label-container {text-align: center;}#sk-container-id-1 div.sk-container {/* jupyter's `normalize.less` sets `[hidden] { display: none; }` but bootstrap.min.css set `[hidden] { display: none !important; }` so we also need the `!important` here to be able to override the default hidden behavior on the sphinx rendered scikit-learn.org. See: https://github.com/scikit-learn/scikit-learn/issues/21755 */display: inline-block !important;position: relative;}#sk-container-id-1 div.sk-text-repr-fallback {display: none;}</style><div id=\"sk-container-id-1\" class=\"sk-top-container\"><div class=\"sk-text-repr-fallback\"><pre>DecisionTreeClassifier()</pre><b>In a Jupyter environment, please rerun this cell to show the HTML representation or trust the notebook. <br />On GitHub, the HTML representation is unable to render, please try loading this page with nbviewer.org.</b></div><div class=\"sk-container\" hidden><div class=\"sk-item\"><div class=\"sk-estimator sk-toggleable\"><input class=\"sk-toggleable__control sk-hidden--visually\" id=\"sk-estimator-id-1\" type=\"checkbox\" checked><label for=\"sk-estimator-id-1\" class=\"sk-toggleable__label sk-toggleable__label-arrow\">DecisionTreeClassifier</label><div class=\"sk-toggleable__content\"><pre>DecisionTreeClassifier()</pre></div></div></div></div></div>"
      ],
      "text/plain": [
       "DecisionTreeClassifier()"
      ]
     },
     "execution_count": 19,
     "metadata": {},
     "output_type": "execute_result"
    }
   ],
   "source": [
    "from sklearn.tree import DecisionTreeClassifier\n",
    "dc=DecisionTreeClassifier()\n",
    "dc.fit(X_train,Y_train)"
   ]
  },
  {
   "cell_type": "code",
   "execution_count": 20,
   "id": "f3fdb503",
   "metadata": {},
   "outputs": [],
   "source": [
    "import numpy as np\n",
    "import pandas as pd\n",
    "import matplotlib.pyplot as plt \n",
    "import seaborn as sns \n",
    "import time\n",
    "\n",
    "import gspread\n",
    "from oauth2client.service_account import ServiceAccountCredentials\n",
    "\n",
    "scope = ['https://spreadsheets.google.com/feeds','https://www.googleapis.com/auth/drive']\n",
    "account = ServiceAccountCredentials.from_json_keyfile_name(\"credit-score-analysis-c3637484635d3c2.json\",scope)\n",
    "access = gspread.authorize(account)\n",
    "\n",
    "Project = access.open_by_url('https://docs.google.com/spreadsheets/d/10FsRFWWbRL8xoE9YwWx3Hwn3C8Sz0KE-BN0dPmBFFUs/edit#gid=0')     # MAIN SPREADSHEET\n",
    "\n",
    "practo = Project.get_worksheet(0)\n",
    "\n",
    "data = pd.DataFrame(practo.get_all_records())"
   ]
  },
  {
   "cell_type": "code",
   "execution_count": 21,
   "id": "be3c6837",
   "metadata": {},
   "outputs": [],
   "source": [
    "# ## Occupation \n",
    "\n",
    "# l1 = ['Scientist', 'Teacher', 'Engineer', 'Entrepreneur', 'Developer',\n",
    "#        'Lawyer', 'Media_Manager', 'Doctor', 'Journalist', 'Manager',\n",
    "#        'Accountant', 'Musician', 'Mechanic', 'Writer', 'Architect']\n",
    "\n",
    "# Occupation=[]\n",
    "# for i in l1:\n",
    "#     Occupation.append({\"userEnteredValue\" : i})\n",
    "    \n",
    "\n",
    "# sheetName = \"Sheet1\" # Sheet_Name.\n",
    "# sheetId = Project.worksheet(sheetName).id # Extracting Sheet_ID\n",
    "# body = {\n",
    "#     \"requests\": [\n",
    "#         {\n",
    "#             \"updateCells\": {\n",
    "#                 \"range\": {\n",
    "#                     \"sheetId\": sheetId,\n",
    "#                     \"startRowIndex\": 3,\n",
    "#                     \"endRowIndex\": 4,\n",
    "#                     \"startColumnIndex\": 2,\n",
    "#                     \"endColumnIndex\": 3\n",
    "#                 },\n",
    "#                 \"rows\": [\n",
    "#                     {\n",
    "#                         \"values\": [\n",
    "#                             {\n",
    "#                                 \"dataValidation\": {\n",
    "#                                     \"condition\": {\n",
    "#                                         \"values\": Occupation,\n",
    "#                                         \"type\": \"ONE_OF_LIST\"\n",
    "#                                     },\n",
    "#                                     \"showCustomUi\": True\n",
    "#                                 }\n",
    "#                             }\n",
    "#                         ]\n",
    "#                     }\n",
    "#                 ],\n",
    "#                 \"fields\": \"dataValidation\"\n",
    "#             }\n",
    "#         }\n",
    "#     ]\n",
    "#  }\n",
    "# Project.batch_update(body)"
   ]
  },
  {
   "cell_type": "code",
   "execution_count": 22,
   "id": "398f9766",
   "metadata": {},
   "outputs": [],
   "source": [
    "# ## Credit_Mix \n",
    "\n",
    "# l2 = ['Good', 'Standard', 'Bad']\n",
    "\n",
    "# Credit_Mix=[]\n",
    "# for i in l2:\n",
    "#     Credit_Mix.append({\"userEnteredValue\" : i})\n",
    "    \n",
    "\n",
    "# sheetName = \"Sheet1\" # Sheet_Name.\n",
    "# sheetId = Project.worksheet(sheetName).id # Extracting Sheet_ID\n",
    "# body = {\n",
    "#     \"requests\": [\n",
    "#         {\n",
    "#             \"updateCells\": {\n",
    "#                 \"range\": {\n",
    "#                     \"sheetId\": sheetId,\n",
    "#                     \"startRowIndex\": 12,\n",
    "#                     \"endRowIndex\": 13,\n",
    "#                     \"startColumnIndex\": 2,\n",
    "#                     \"endColumnIndex\": 3\n",
    "#                 },\n",
    "#                 \"rows\": [\n",
    "#                     {\n",
    "#                         \"values\": [\n",
    "#                             {\n",
    "#                                 \"dataValidation\": {\n",
    "#                                     \"condition\": {\n",
    "#                                         \"values\": Credit_Mix,\n",
    "#                                         \"type\": \"ONE_OF_LIST\"\n",
    "#                                     },\n",
    "#                                     \"showCustomUi\": True\n",
    "#                                 }\n",
    "#                             }\n",
    "#                         ]\n",
    "#                     }\n",
    "#                 ],\n",
    "#                 \"fields\": \"dataValidation\"\n",
    "#             }\n",
    "#         }\n",
    "#     ]\n",
    "#  }\n",
    "# Project.batch_update(body)"
   ]
  },
  {
   "cell_type": "code",
   "execution_count": 23,
   "id": "f89a3464",
   "metadata": {},
   "outputs": [],
   "source": [
    "# ## Payment_of_Min_Amount \n",
    "\n",
    "# l3 = ['No', 'Yes']\n",
    "\n",
    "# Payment_of_Min_Amount=[]\n",
    "# for i in l3:\n",
    "#     Payment_of_Min_Amount.append({\"userEnteredValue\" : i})\n",
    "    \n",
    "\n",
    "# sheetName = \"Sheet1\" # Sheet_Name.\n",
    "# sheetId = Project.worksheet(sheetName).id # Extracting Sheet_ID\n",
    "# body = {\n",
    "#     \"requests\": [\n",
    "#         {\n",
    "#             \"updateCells\": {\n",
    "#                 \"range\": {\n",
    "#                     \"sheetId\": sheetId,\n",
    "#                     \"startRowIndex\": 16,\n",
    "#                     \"endRowIndex\": 17,\n",
    "#                     \"startColumnIndex\": 2,\n",
    "#                     \"endColumnIndex\": 3\n",
    "#                 },\n",
    "#                 \"rows\": [\n",
    "#                     {\n",
    "#                         \"values\": [\n",
    "#                             {\n",
    "#                                 \"dataValidation\": {\n",
    "#                                     \"condition\": {\n",
    "#                                         \"values\": Payment_of_Min_Amount,\n",
    "#                                         \"type\": \"ONE_OF_LIST\"\n",
    "#                                     },\n",
    "#                                     \"showCustomUi\": True\n",
    "#                                 }\n",
    "#                             }\n",
    "#                         ]\n",
    "#                     }\n",
    "#                 ],\n",
    "#                 \"fields\": \"dataValidation\"\n",
    "#             }\n",
    "#         }\n",
    "#     ]\n",
    "#  }\n",
    "# Project.batch_update(body)"
   ]
  },
  {
   "cell_type": "code",
   "execution_count": 24,
   "id": "3fc297b1",
   "metadata": {},
   "outputs": [],
   "source": [
    "# ## Payment_Behaviour \n",
    "\n",
    "# l4 = ['High_spent_Small_value_payments',\n",
    "#        'Low_spent_Large_value_payments',\n",
    "#        'Low_spent_Medium_value_payments',\n",
    "#        'Low_spent_Small_value_payments',\n",
    "#        'High_spent_Medium_value_payments',\n",
    "#        'High_spent_Large_value_payments']\n",
    "\n",
    "# Payment_Behaviour=[]\n",
    "# for i in l4:\n",
    "#     Payment_Behaviour.append({\"userEnteredValue\" : i})\n",
    "    \n",
    "\n",
    "# sheetName = \"Sheet1\" # Sheet_Name.\n",
    "# sheetId = Project.worksheet(sheetName).id # Extracting Sheet_ID\n",
    "# body = {\n",
    "#     \"requests\": [\n",
    "#         {\n",
    "#             \"updateCells\": {\n",
    "#                 \"range\": {\n",
    "#                     \"sheetId\": sheetId,\n",
    "#                     \"startRowIndex\": 17,\n",
    "#                     \"endRowIndex\": 18,\n",
    "#                     \"startColumnIndex\": 2,\n",
    "#                     \"endColumnIndex\": 3\n",
    "#                 },\n",
    "#                 \"rows\": [\n",
    "#                     {\n",
    "#                         \"values\": [\n",
    "#                             {\n",
    "#                                 \"dataValidation\": {\n",
    "#                                     \"condition\": {\n",
    "#                                         \"values\": Payment_Behaviour,\n",
    "#                                         \"type\": \"ONE_OF_LIST\"\n",
    "#                                     },\n",
    "#                                     \"showCustomUi\": True\n",
    "#                                 }\n",
    "#                             }\n",
    "#                         ]\n",
    "#                     }\n",
    "#                 ],\n",
    "#                 \"fields\": \"dataValidation\"\n",
    "#             }\n",
    "#         }\n",
    "#     ]\n",
    "#  }\n",
    "# Project.batch_update(body)"
   ]
  },
  {
   "cell_type": "code",
   "execution_count": null,
   "id": "fab0ba43",
   "metadata": {},
   "outputs": [],
   "source": [
    "while(True) :\n",
    "    \n",
    "    Occupation  = practo.acell('C4').value\n",
    "    Annual_Income  = float(practo.acell('C5').value)\n",
    "    Num_Bank_Accounts  = float(practo.acell('C6').value)\n",
    "    Num_Credit_Card  = float(practo.acell('C7').value)\n",
    "    Interest_Rate  = float(practo.acell('C8').value)\n",
    "    Num_of_Loan = float(practo.acell('C9').value)\n",
    "    Delay_from_due_date  = float(practo.acell('C10').value)\n",
    "    Num_of_Delayed_Payment  = float(practo.acell('C11').value)\n",
    "    Num_Credit_Inquiries  = float(practo.acell('C12').value)\n",
    "    Credit_Mix  = practo.acell('C13').value\n",
    "    Outstanding_Debt  = float(practo.acell('C14').value)\n",
    "    Credit_Utilization_Ratio  = float(practo.acell('C15').value)\n",
    "    Credit_History_Age  = float(practo.acell('C16').value)\n",
    "    Payment_of_Min_Amount  = practo.acell('C17').value\n",
    "    Payment_Behaviour  = practo.acell('C18').value\n",
    "    Monthly_Balance  = float(practo.acell('C19').value)\n",
    "    \n",
    "\n",
    "    my_dict = {'Occupation' : Occupation , 'Annual_Income' : Annual_Income , 'Num_Bank_Accounts' : Num_Bank_Accounts ,\n",
    "               'Num_Credit_Card' : Num_Credit_Card , 'Interest_Rate' : Interest_Rate , 'Num_of_Loan' : Num_of_Loan , \n",
    "               'Delay_from_due_date' : Delay_from_due_date , 'Num_of_Delayed_Payment' : Num_of_Delayed_Payment , \n",
    "               'Num_Credit_Inquiries' : Num_Credit_Inquiries , 'Credit_Mix' : Credit_Mix , 'Outstanding_Debt' : Outstanding_Debt,\n",
    "               'Credit_Utilization_Ratio' : Credit_Utilization_Ratio , 'Credit_History_Age' : Credit_History_Age ,\n",
    "               'Payment_of_Min_Amount' : Payment_of_Min_Amount , 'Payment_Behaviour' : Payment_Behaviour ,\n",
    "               'Monthly_Balance' : Monthly_Balance}\n",
    "    df4 = pd.DataFrame([my_dict])\n",
    "\n",
    "#     print(df4)\n",
    "\n",
    "    w1=a4.tolist()\n",
    "    w2=w1.index(Occupation)\n",
    "    w3=b4.tolist()\n",
    "    w4=w3[w2]\n",
    "    df4['Occupation'][0]=w4\n",
    "\n",
    "    e1=a2.tolist()\n",
    "    e2=e1.index(Credit_Mix)\n",
    "    e3=b2.tolist()\n",
    "    e4=e3[e2]\n",
    "    df4['Credit_Mix'][0]=e4\n",
    "\n",
    "    f1=a3.tolist()\n",
    "    f2=f1.index(Payment_of_Min_Amount)\n",
    "    f3=b3.tolist()\n",
    "    f4=f3[f2]\n",
    "    df4['Payment_of_Min_Amount'][0]=f4\n",
    "    \n",
    "    p1=a5.tolist()\n",
    "    p2=p1.index(Payment_Behaviour)\n",
    "    p3=b5.tolist()\n",
    "    p4=p3[p2]\n",
    "    df4['Payment_Behaviour'][0]=p4\n",
    "    \n",
    "    \n",
    "\n",
    "    col=['Occupation','Credit_Mix','Payment_of_Min_Amount' , 'Payment_Behaviour']\n",
    "    for i in col:\n",
    "        df4[i] = pd.to_numeric(df4[i])\n",
    "\n",
    "    X_test=df4[['Occupation', 'Annual_Income', 'Num_Bank_Accounts', 'Num_Credit_Card',\n",
    "       'Interest_Rate', 'Num_of_Loan', 'Delay_from_due_date',\n",
    "       'Num_of_Delayed_Payment', 'Num_Credit_Inquiries', 'Credit_Mix',\n",
    "       'Outstanding_Debt', 'Credit_Utilization_Ratio', 'Credit_History_Age',\n",
    "       'Payment_of_Min_Amount', 'Payment_Behaviour', 'Monthly_Balance']]\n",
    "    Y_pred=dc.predict(X_test)\n",
    "    q = Y_pred[0]\n",
    "    d = a1.tolist()\n",
    "    c = d[q]\n",
    "    practo.update('C21', c)\n",
    "    time.sleep(15)\n",
    "    "
   ]
  },
  {
   "cell_type": "code",
   "execution_count": 15,
   "id": "0939a249",
   "metadata": {},
   "outputs": [
    {
     "data": {
      "text/plain": [
       "<matplotlib.image.AxesImage at 0x23ea2938190>"
      ]
     },
     "execution_count": 15,
     "metadata": {},
     "output_type": "execute_result"
    },
    {
     "data": {
      "image/png": "[encoded data removed]",
      "text/plain": [
       "<Figure size 1440x1440 with 1 Axes>"
      ]
     },
     "metadata": {
      "needs_background": "light"
     },
     "output_type": "display_data"
    }
   ],
   "source": [
    "import matplotlib.image as mpimg\n",
    "import matplotlib.pyplot as plt\n",
    "\n",
    "plt.figure(figsize=(20,20))\n",
    "# Read Images\n",
    "img = mpimg.imread('Screenshot 2023-02-20 163614.png')\n",
    " \n",
    "# Output Images\n",
    "plt.imshow(img)"
   ]
  },
  {
   "cell_type": "code",
   "execution_count": null,
   "id": "7acd0f15",
   "metadata": {},
   "outputs": [],
   "source": []
  }
 ],
 "metadata": {
  "kernelspec": {
   "display_name": "Python 3 (ipykernel)",
   "language": "python",
   "name": "python3"
  },
  "language_info": {
   "codemirror_mode": {
    "name": "ipython",
    "version": 3
   },
   "file_extension": ".py",
   "mimetype": "text/x-python",
   "name": "python",
   "nbconvert_exporter": "python",
   "pygments_lexer": "ipython3",
   "version": "3.9.7"
  }
 },
 "nbformat": 4,
 "nbformat_minor": 5
}
